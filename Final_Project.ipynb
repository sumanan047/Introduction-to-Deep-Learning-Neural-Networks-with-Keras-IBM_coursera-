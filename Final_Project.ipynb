{
 "cells": [
  {
   "cell_type": "markdown",
   "metadata": {
    "button": false,
    "deletable": true,
    "new_sheet": false,
    "run_control": {
     "read_only": false
    }
   },
   "source": [
    "<h1 align=center style=\"background-color:rgb(220,220,220);\">\n",
    "    <font face = \"Veranda\" size = \"5\"><b>Regression Models with Keras</b></font></br>\n",
    "        <font face = \"sans-serif\" size = \"2\"> <a href=\"https://www.linkedin.com/in/suman-saurabh-10155b198/\"><b>Suman Saurabh </b>:<em><u>Linkedin</u> Profile</em></a></font>\n",
    "</h1>\n",
    "<div align=center style=\"background-color:rgb(0,0,0);\" style=\"margin-top: 0px\">\n",
    "  <img display:block vertical-align:bottom src = \"https://c0.wallpaperflare.com/preview/729/37/117/advanced-ai-anatomy-artificial.jpg\" width = \"auto\" height=\"50\">\n",
    "</div>\n",
    " "
   ]
  },
  {
   "cell_type": "markdown",
   "metadata": {
    "button": false,
    "deletable": true,
    "new_sheet": false,
    "run_control": {
     "read_only": false
    }
   },
   "source": [
    "<h2 style=\"paddingTop:0px;\" align=\"center\"><font color=\"blue\">SUMMARY</font></h2>"
   ]
  },
  {
   "cell_type": "markdown",
   "metadata": {},
   "source": [
    "This notebook is a Neural Network (machine learning) project on a set of data on various concrete properties that are can be used as a feature to predict concrete strength. I will use Keras and scikit learn libraries in this project to develop, build, compile and run a neural network that can reliably predict concrete strength using avaliable features. "
   ]
  },
  {
   "cell_type": "markdown",
   "metadata": {},
   "source": [
    "<h3 align=\"center\"><font color=\"DarkRed\"><u>Part - A</u></font></h3>"
   ]
  },
  {
   "cell_type": "markdown",
   "metadata": {},
   "source": [
    "#### Part B was done before Part A, hence I could use the model developed in Part B in Part A. Please start reading the notebook from Part B"
   ]
  },
  {
   "cell_type": "code",
   "execution_count": 38,
   "metadata": {},
   "outputs": [
    {
     "data": {
      "text/html": [
       "<div>\n",
       "<style scoped>\n",
       "    .dataframe tbody tr th:only-of-type {\n",
       "        vertical-align: middle;\n",
       "    }\n",
       "\n",
       "    .dataframe tbody tr th {\n",
       "        vertical-align: top;\n",
       "    }\n",
       "\n",
       "    .dataframe thead th {\n",
       "        text-align: right;\n",
       "    }\n",
       "</style>\n",
       "<table border=\"1\" class=\"dataframe\">\n",
       "  <thead>\n",
       "    <tr style=\"text-align: right;\">\n",
       "      <th></th>\n",
       "      <th>Cement</th>\n",
       "      <th>Blast Furnace Slag</th>\n",
       "      <th>Fly Ash</th>\n",
       "      <th>Water</th>\n",
       "      <th>Superplasticizer</th>\n",
       "      <th>Coarse Aggregate</th>\n",
       "      <th>Fine Aggregate</th>\n",
       "      <th>Age</th>\n",
       "      <th>Strength</th>\n",
       "    </tr>\n",
       "  </thead>\n",
       "  <tbody>\n",
       "    <tr>\n",
       "      <th>0</th>\n",
       "      <td>540.0</td>\n",
       "      <td>0.0</td>\n",
       "      <td>0.0</td>\n",
       "      <td>162.0</td>\n",
       "      <td>2.5</td>\n",
       "      <td>1040.0</td>\n",
       "      <td>676.0</td>\n",
       "      <td>28</td>\n",
       "      <td>79.99</td>\n",
       "    </tr>\n",
       "    <tr>\n",
       "      <th>1</th>\n",
       "      <td>540.0</td>\n",
       "      <td>0.0</td>\n",
       "      <td>0.0</td>\n",
       "      <td>162.0</td>\n",
       "      <td>2.5</td>\n",
       "      <td>1055.0</td>\n",
       "      <td>676.0</td>\n",
       "      <td>28</td>\n",
       "      <td>61.89</td>\n",
       "    </tr>\n",
       "    <tr>\n",
       "      <th>2</th>\n",
       "      <td>332.5</td>\n",
       "      <td>142.5</td>\n",
       "      <td>0.0</td>\n",
       "      <td>228.0</td>\n",
       "      <td>0.0</td>\n",
       "      <td>932.0</td>\n",
       "      <td>594.0</td>\n",
       "      <td>270</td>\n",
       "      <td>40.27</td>\n",
       "    </tr>\n",
       "    <tr>\n",
       "      <th>3</th>\n",
       "      <td>332.5</td>\n",
       "      <td>142.5</td>\n",
       "      <td>0.0</td>\n",
       "      <td>228.0</td>\n",
       "      <td>0.0</td>\n",
       "      <td>932.0</td>\n",
       "      <td>594.0</td>\n",
       "      <td>365</td>\n",
       "      <td>41.05</td>\n",
       "    </tr>\n",
       "    <tr>\n",
       "      <th>4</th>\n",
       "      <td>198.6</td>\n",
       "      <td>132.4</td>\n",
       "      <td>0.0</td>\n",
       "      <td>192.0</td>\n",
       "      <td>0.0</td>\n",
       "      <td>978.4</td>\n",
       "      <td>825.5</td>\n",
       "      <td>360</td>\n",
       "      <td>44.30</td>\n",
       "    </tr>\n",
       "  </tbody>\n",
       "</table>\n",
       "</div>"
      ],
      "text/plain": [
       "   Cement  Blast Furnace Slag  Fly Ash  Water  Superplasticizer  \\\n",
       "0   540.0                 0.0      0.0  162.0               2.5   \n",
       "1   540.0                 0.0      0.0  162.0               2.5   \n",
       "2   332.5               142.5      0.0  228.0               0.0   \n",
       "3   332.5               142.5      0.0  228.0               0.0   \n",
       "4   198.6               132.4      0.0  192.0               0.0   \n",
       "\n",
       "   Coarse Aggregate  Fine Aggregate  Age  Strength  \n",
       "0            1040.0           676.0   28     79.99  \n",
       "1            1055.0           676.0   28     61.89  \n",
       "2             932.0           594.0  270     40.27  \n",
       "3             932.0           594.0  365     41.05  \n",
       "4             978.4           825.5  360     44.30  "
      ]
     },
     "execution_count": 38,
     "metadata": {},
     "output_type": "execute_result"
    }
   ],
   "source": [
    "cd.head()"
   ]
  },
  {
   "cell_type": "markdown",
   "metadata": {},
   "source": [
    "#### Splitting data into predictor and target "
   ]
  },
  {
   "cell_type": "code",
   "execution_count": 39,
   "metadata": {},
   "outputs": [
    {
     "data": {
      "text/html": [
       "<div>\n",
       "<style scoped>\n",
       "    .dataframe tbody tr th:only-of-type {\n",
       "        vertical-align: middle;\n",
       "    }\n",
       "\n",
       "    .dataframe tbody tr th {\n",
       "        vertical-align: top;\n",
       "    }\n",
       "\n",
       "    .dataframe thead th {\n",
       "        text-align: right;\n",
       "    }\n",
       "</style>\n",
       "<table border=\"1\" class=\"dataframe\">\n",
       "  <thead>\n",
       "    <tr style=\"text-align: right;\">\n",
       "      <th></th>\n",
       "      <th>Cement</th>\n",
       "      <th>Blast Furnace Slag</th>\n",
       "      <th>Fly Ash</th>\n",
       "      <th>Water</th>\n",
       "      <th>Superplasticizer</th>\n",
       "      <th>Coarse Aggregate</th>\n",
       "      <th>Fine Aggregate</th>\n",
       "      <th>Age</th>\n",
       "    </tr>\n",
       "  </thead>\n",
       "  <tbody>\n",
       "    <tr>\n",
       "      <th>0</th>\n",
       "      <td>540.0</td>\n",
       "      <td>0.0</td>\n",
       "      <td>0.0</td>\n",
       "      <td>162.0</td>\n",
       "      <td>2.5</td>\n",
       "      <td>1040.0</td>\n",
       "      <td>676.0</td>\n",
       "      <td>28</td>\n",
       "    </tr>\n",
       "    <tr>\n",
       "      <th>1</th>\n",
       "      <td>540.0</td>\n",
       "      <td>0.0</td>\n",
       "      <td>0.0</td>\n",
       "      <td>162.0</td>\n",
       "      <td>2.5</td>\n",
       "      <td>1055.0</td>\n",
       "      <td>676.0</td>\n",
       "      <td>28</td>\n",
       "    </tr>\n",
       "    <tr>\n",
       "      <th>2</th>\n",
       "      <td>332.5</td>\n",
       "      <td>142.5</td>\n",
       "      <td>0.0</td>\n",
       "      <td>228.0</td>\n",
       "      <td>0.0</td>\n",
       "      <td>932.0</td>\n",
       "      <td>594.0</td>\n",
       "      <td>270</td>\n",
       "    </tr>\n",
       "    <tr>\n",
       "      <th>3</th>\n",
       "      <td>332.5</td>\n",
       "      <td>142.5</td>\n",
       "      <td>0.0</td>\n",
       "      <td>228.0</td>\n",
       "      <td>0.0</td>\n",
       "      <td>932.0</td>\n",
       "      <td>594.0</td>\n",
       "      <td>365</td>\n",
       "    </tr>\n",
       "    <tr>\n",
       "      <th>4</th>\n",
       "      <td>198.6</td>\n",
       "      <td>132.4</td>\n",
       "      <td>0.0</td>\n",
       "      <td>192.0</td>\n",
       "      <td>0.0</td>\n",
       "      <td>978.4</td>\n",
       "      <td>825.5</td>\n",
       "      <td>360</td>\n",
       "    </tr>\n",
       "  </tbody>\n",
       "</table>\n",
       "</div>"
      ],
      "text/plain": [
       "   Cement  Blast Furnace Slag  Fly Ash  Water  Superplasticizer  \\\n",
       "0   540.0                 0.0      0.0  162.0               2.5   \n",
       "1   540.0                 0.0      0.0  162.0               2.5   \n",
       "2   332.5               142.5      0.0  228.0               0.0   \n",
       "3   332.5               142.5      0.0  228.0               0.0   \n",
       "4   198.6               132.4      0.0  192.0               0.0   \n",
       "\n",
       "   Coarse Aggregate  Fine Aggregate  Age  \n",
       "0            1040.0           676.0   28  \n",
       "1            1055.0           676.0   28  \n",
       "2             932.0           594.0  270  \n",
       "3             932.0           594.0  365  \n",
       "4             978.4           825.5  360  "
      ]
     },
     "execution_count": 39,
     "metadata": {},
     "output_type": "execute_result"
    }
   ],
   "source": [
    "cd_col = cd.columns\n",
    "predictor = cd[cd_col[0:8]]\n",
    "predictor.head()"
   ]
  },
  {
   "cell_type": "code",
   "execution_count": 40,
   "metadata": {},
   "outputs": [
    {
     "data": {
      "text/plain": [
       "0    79.99\n",
       "1    61.89\n",
       "2    40.27\n",
       "3    41.05\n",
       "4    44.30\n",
       "Name: Strength, dtype: float64"
      ]
     },
     "execution_count": 40,
     "metadata": {},
     "output_type": "execute_result"
    }
   ],
   "source": [
    "target = cd[cd.columns[8]]\n",
    "target.head()"
   ]
  },
  {
   "cell_type": "code",
   "execution_count": 44,
   "metadata": {},
   "outputs": [
    {
     "name": "stdout",
     "output_type": "stream",
     "text": [
      "8\n"
     ]
    }
   ],
   "source": [
    "n_x = predictor.shape[1] # number of predictors\n",
    "print(n_x)"
   ]
  },
  {
   "cell_type": "markdown",
   "metadata": {},
   "source": [
    "Splitting data into train and test set using sklearn train_test_split "
   ]
  },
  {
   "cell_type": "code",
   "execution_count": 45,
   "metadata": {},
   "outputs": [
    {
     "data": {
      "text/html": [
       "<div>\n",
       "<style scoped>\n",
       "    .dataframe tbody tr th:only-of-type {\n",
       "        vertical-align: middle;\n",
       "    }\n",
       "\n",
       "    .dataframe tbody tr th {\n",
       "        vertical-align: top;\n",
       "    }\n",
       "\n",
       "    .dataframe thead th {\n",
       "        text-align: right;\n",
       "    }\n",
       "</style>\n",
       "<table border=\"1\" class=\"dataframe\">\n",
       "  <thead>\n",
       "    <tr style=\"text-align: right;\">\n",
       "      <th></th>\n",
       "      <th>Cement</th>\n",
       "      <th>Blast Furnace Slag</th>\n",
       "      <th>Fly Ash</th>\n",
       "      <th>Water</th>\n",
       "      <th>Superplasticizer</th>\n",
       "      <th>Coarse Aggregate</th>\n",
       "      <th>Fine Aggregate</th>\n",
       "      <th>Age</th>\n",
       "    </tr>\n",
       "  </thead>\n",
       "  <tbody>\n",
       "    <tr>\n",
       "      <th>185</th>\n",
       "      <td>222.4</td>\n",
       "      <td>0.0</td>\n",
       "      <td>96.7</td>\n",
       "      <td>189.3</td>\n",
       "      <td>4.5</td>\n",
       "      <td>967.1</td>\n",
       "      <td>870.3</td>\n",
       "      <td>14</td>\n",
       "    </tr>\n",
       "    <tr>\n",
       "      <th>286</th>\n",
       "      <td>181.4</td>\n",
       "      <td>0.0</td>\n",
       "      <td>167.0</td>\n",
       "      <td>169.6</td>\n",
       "      <td>7.6</td>\n",
       "      <td>1055.6</td>\n",
       "      <td>777.8</td>\n",
       "      <td>28</td>\n",
       "    </tr>\n",
       "    <tr>\n",
       "      <th>600</th>\n",
       "      <td>339.0</td>\n",
       "      <td>0.0</td>\n",
       "      <td>0.0</td>\n",
       "      <td>197.0</td>\n",
       "      <td>0.0</td>\n",
       "      <td>968.0</td>\n",
       "      <td>781.0</td>\n",
       "      <td>14</td>\n",
       "    </tr>\n",
       "    <tr>\n",
       "      <th>691</th>\n",
       "      <td>212.0</td>\n",
       "      <td>141.3</td>\n",
       "      <td>0.0</td>\n",
       "      <td>203.5</td>\n",
       "      <td>0.0</td>\n",
       "      <td>973.4</td>\n",
       "      <td>750.0</td>\n",
       "      <td>3</td>\n",
       "    </tr>\n",
       "    <tr>\n",
       "      <th>474</th>\n",
       "      <td>446.0</td>\n",
       "      <td>24.0</td>\n",
       "      <td>79.0</td>\n",
       "      <td>162.0</td>\n",
       "      <td>10.3</td>\n",
       "      <td>967.0</td>\n",
       "      <td>712.0</td>\n",
       "      <td>28</td>\n",
       "    </tr>\n",
       "  </tbody>\n",
       "</table>\n",
       "</div>"
      ],
      "text/plain": [
       "     Cement  Blast Furnace Slag  Fly Ash  Water  Superplasticizer  \\\n",
       "185   222.4                 0.0     96.7  189.3               4.5   \n",
       "286   181.4                 0.0    167.0  169.6               7.6   \n",
       "600   339.0                 0.0      0.0  197.0               0.0   \n",
       "691   212.0               141.3      0.0  203.5               0.0   \n",
       "474   446.0                24.0     79.0  162.0              10.3   \n",
       "\n",
       "     Coarse Aggregate  Fine Aggregate  Age  \n",
       "185             967.1           870.3   14  \n",
       "286            1055.6           777.8   28  \n",
       "600             968.0           781.0   14  \n",
       "691             973.4           750.0    3  \n",
       "474             967.0           712.0   28  "
      ]
     },
     "execution_count": 45,
     "metadata": {},
     "output_type": "execute_result"
    }
   ],
   "source": [
    "from sklearn.model_selection import train_test_split\n",
    "XA = predictor\n",
    "yA = target\n",
    "X_trainA, X_testA, y_trainA, y_testA = train_test_split(XA, yA, test_size=0.30, random_state = 1)\n",
    "X_trainA.head()"
   ]
  },
  {
   "cell_type": "markdown",
   "metadata": {},
   "source": [
    "#### Calling model built in Part B and fitting it over training data and evaluating it on test data; MSE(Mean squared error) over 50 iterations are recorded and mean and standard deviation of the list is estimated"
   ]
  },
  {
   "cell_type": "code",
   "execution_count": 46,
   "metadata": {},
   "outputs": [
    {
     "name": "stdout",
     "output_type": "stream",
     "text": [
      "309/309 [==============================] - 0s 125us/step\n",
      "309/309 [==============================] - 0s 119us/step\n",
      "309/309 [==============================] - 0s 79us/step\n",
      "309/309 [==============================] - 0s 115us/step\n",
      "309/309 [==============================] - 0s 118us/step\n",
      "309/309 [==============================] - 0s 123us/step\n",
      "309/309 [==============================] - 0s 197us/step\n",
      "309/309 [==============================] - 0s 79us/step\n",
      "309/309 [==============================] - 0s 75us/step\n",
      "309/309 [==============================] - 0s 126us/step\n",
      "309/309 [==============================] - 0s 118us/step\n",
      "309/309 [==============================] - 0s 74us/step\n",
      "309/309 [==============================] - 0s 79us/step\n",
      "309/309 [==============================] - 0s 81us/step\n",
      "309/309 [==============================] - 0s 75us/step\n",
      "309/309 [==============================] - 0s 73us/step\n",
      "309/309 [==============================] - 0s 118us/step\n",
      "309/309 [==============================] - 0s 106us/step\n",
      "309/309 [==============================] - 0s 76us/step\n",
      "309/309 [==============================] - 0s 71us/step\n",
      "309/309 [==============================] - 0s 181us/step\n",
      "309/309 [==============================] - 0s 72us/step\n",
      "309/309 [==============================] - 0s 130us/step\n",
      "309/309 [==============================] - 0s 83us/step\n",
      "309/309 [==============================] - 0s 131us/step\n",
      "309/309 [==============================] - 0s 71us/step\n",
      "309/309 [==============================] - 0s 74us/step\n",
      "309/309 [==============================] - 0s 73us/step\n",
      "309/309 [==============================] - 0s 76us/step\n",
      "309/309 [==============================] - 0s 124us/step\n",
      "309/309 [==============================] - 0s 71us/step\n",
      "309/309 [==============================] - 0s 69us/step\n",
      "309/309 [==============================] - 0s 124us/step\n",
      "309/309 [==============================] - 0s 82us/step\n",
      "309/309 [==============================] - 0s 137us/step\n",
      "309/309 [==============================] - 0s 126us/step\n",
      "309/309 [==============================] - 0s 122us/step\n",
      "309/309 [==============================] - 0s 124us/step\n",
      "309/309 [==============================] - 0s 69us/step\n",
      "309/309 [==============================] - 0s 70us/step\n",
      "309/309 [==============================] - 0s 121us/step\n",
      "309/309 [==============================] - 0s 124us/step\n",
      "309/309 [==============================] - 0s 125us/step\n",
      "309/309 [==============================] - 0s 80us/step\n",
      "309/309 [==============================] - 0s 72us/step\n",
      "309/309 [==============================] - 0s 125us/step\n",
      "309/309 [==============================] - 0s 129us/step\n",
      "309/309 [==============================] - 0s 111us/step\n",
      "309/309 [==============================] - 0s 128us/step\n",
      "309/309 [==============================] - 0s 127us/step\n"
     ]
    }
   ],
   "source": [
    "mse_listA = []\n",
    "for i in range(1,51):\n",
    "    model.fit(X_trainA, y_trainA, epochs=50, verbose=0)\n",
    "    loss_testA = model.evaluate(x=X_testA, y=y_testA, verbose=1)\n",
    "    mse_listA.append(loss_testA)"
   ]
  },
  {
   "cell_type": "code",
   "execution_count": 47,
   "metadata": {},
   "outputs": [
    {
     "name": "stdout",
     "output_type": "stream",
     "text": [
      "[917795.7596076052, 331594.09900889965, 114058.08100728155, 32824.491568062294, 7541.60882509102, 1986.4872343686793, 974.727781425402, 541.8979283305048, 358.5847238583858, 312.90117262559414, 255.62342533247372, 242.1172912992706, 226.17618928680915, 230.09587245311553, 197.56892908583953, 190.658967052077, 219.85030720534834, 178.5247504225055, 235.94854104248836, 174.0953034829939, 180.5102380795772, 168.31352530173885, 166.5584760746138, 176.13846943679366, 169.40873510860703, 167.75539968546155, 161.12402761021093, 165.5148907757114, 162.84020781285554, 174.48532124244664, 156.70729669861038, 280.7610538815989, 157.86241226443195, 152.30023526682436, 176.78925251883595, 149.8819948955647, 157.6088122272183, 161.0680553349862, 149.79556906493352, 146.77863412999028, 180.8795271938287, 153.20374278343226, 145.12196994522242, 143.11664420809947, 141.34373582759721, 157.9497402401032, 172.39269078819498, 147.2791413736189, 158.76688417107542, 155.31968970437651]\n"
     ]
    }
   ],
   "source": [
    "print(mse_listA)"
   ]
  },
  {
   "cell_type": "code",
   "execution_count": 54,
   "metadata": {},
   "outputs": [
    {
     "name": "stdout",
     "output_type": "stream",
     "text": [
      "mean squared error is:28301.537496157154standard deviation of the mean squared error is:137499.91738769494\n"
     ]
    }
   ],
   "source": [
    "import statistics\n",
    "mean_mseA = statistics.mean(mse_listA)\n",
    "std_mseA = statistics.stdev(mse_listA)\n",
    "print(\"mean squared error is:\"+ str(mean_mseA) +\"standard deviation of the mean squared error is:\"+str(std_mseA))"
   ]
  },
  {
   "cell_type": "markdown",
   "metadata": {},
   "source": [
    "<h3 align=center><font color=\"purple\" face=\"monospace\" >It can be seen that the loss value or mse (mean squared error) is very high for not normalized case</font></h3>"
   ]
  },
  {
   "cell_type": "markdown",
   "metadata": {},
   "source": [
    "<h3 align=\"center\"><font color=\"DarkRed\"><u>Part - B</u></font></h3>"
   ]
  },
  {
   "cell_type": "markdown",
   "metadata": {
    "button": false,
    "deletable": true,
    "new_sheet": false,
    "run_control": {
     "read_only": false
    }
   },
   "source": [
    "This notebook is a Neural Network (machine learning) project on a set of data on various concrete properties that are can be used as a feature to predict concrete strength. I will use Keras and scikit learn libraries in this project to develop, build, compile and run a neural network that can reliably predict concrete strength using avaliable features. "
   ]
  },
  {
   "cell_type": "markdown",
   "metadata": {
    "button": false,
    "deletable": true,
    "new_sheet": false,
    "run_control": {
     "read_only": false
    }
   },
   "source": [
    "I will start by importing the important libraries that we will/may need during our analyses."
   ]
  },
  {
   "cell_type": "code",
   "execution_count": 2,
   "metadata": {
    "button": false,
    "deletable": true,
    "new_sheet": false,
    "run_control": {
     "read_only": false
    }
   },
   "outputs": [
    {
     "name": "stderr",
     "output_type": "stream",
     "text": [
      "Using TensorFlow backend.\n",
      "/home/jupyterlab/conda/envs/python/lib/python3.6/site-packages/tensorflow/python/framework/dtypes.py:519: FutureWarning: Passing (type, 1) or '1type' as a synonym of type is deprecated; in a future version of numpy, it will be understood as (type, (1,)) / '(1,)type'.\n",
      "  _np_qint8 = np.dtype([(\"qint8\", np.int8, 1)])\n",
      "/home/jupyterlab/conda/envs/python/lib/python3.6/site-packages/tensorflow/python/framework/dtypes.py:520: FutureWarning: Passing (type, 1) or '1type' as a synonym of type is deprecated; in a future version of numpy, it will be understood as (type, (1,)) / '(1,)type'.\n",
      "  _np_quint8 = np.dtype([(\"quint8\", np.uint8, 1)])\n",
      "/home/jupyterlab/conda/envs/python/lib/python3.6/site-packages/tensorflow/python/framework/dtypes.py:521: FutureWarning: Passing (type, 1) or '1type' as a synonym of type is deprecated; in a future version of numpy, it will be understood as (type, (1,)) / '(1,)type'.\n",
      "  _np_qint16 = np.dtype([(\"qint16\", np.int16, 1)])\n",
      "/home/jupyterlab/conda/envs/python/lib/python3.6/site-packages/tensorflow/python/framework/dtypes.py:522: FutureWarning: Passing (type, 1) or '1type' as a synonym of type is deprecated; in a future version of numpy, it will be understood as (type, (1,)) / '(1,)type'.\n",
      "  _np_quint16 = np.dtype([(\"quint16\", np.uint16, 1)])\n",
      "/home/jupyterlab/conda/envs/python/lib/python3.6/site-packages/tensorflow/python/framework/dtypes.py:523: FutureWarning: Passing (type, 1) or '1type' as a synonym of type is deprecated; in a future version of numpy, it will be understood as (type, (1,)) / '(1,)type'.\n",
      "  _np_qint32 = np.dtype([(\"qint32\", np.int32, 1)])\n",
      "/home/jupyterlab/conda/envs/python/lib/python3.6/site-packages/tensorflow/python/framework/dtypes.py:528: FutureWarning: Passing (type, 1) or '1type' as a synonym of type is deprecated; in a future version of numpy, it will be understood as (type, (1,)) / '(1,)type'.\n",
      "  np_resource = np.dtype([(\"resource\", np.ubyte, 1)])\n"
     ]
    },
    {
     "name": "stdout",
     "output_type": "stream",
     "text": [
      "Libraries imported!\n"
     ]
    }
   ],
   "source": [
    "import pandas as pd # pandas for dataframe analysis\n",
    "import numpy as np #for basic maths functions we will use\n",
    "import seaborn as sns #for regplots to see the realtion between various variables and the strength of concrete\n",
    "import matplotlib.pyplot as plt # to plot graphs\n",
    "import sklearn #for some machine learning project\n",
    "import keras # for the neural network developement\n",
    "print(\"Libraries imported!\")"
   ]
  },
  {
   "cell_type": "markdown",
   "metadata": {
    "button": false,
    "deletable": true,
    "new_sheet": false,
    "run_control": {
     "read_only": false
    }
   },
   "source": [
    "<em>The dataset is about the compressive strength of different samples of concrete based on the volumes of the different ingredients that were used to make them. Ingredients include:</em>\n",
    "\n",
    "<strong style=\"margin-top:0px\">1. Cement</strong>\n",
    "\n",
    "<strong>2. Blast Furnace Slag</strong>\n",
    "\n",
    "<strong>3. Fly Ash</strong>\n",
    "\n",
    "<strong>4. Water</strong>\n",
    "\n",
    "<strong>5. Superplasticizer</strong>\n",
    "\n",
    "<strong>6. Coarse Aggregate</strong>\n",
    "\n",
    "<strong>7. Fine Aggregate</strong>"
   ]
  },
  {
   "cell_type": "markdown",
   "metadata": {
    "button": false,
    "deletable": true,
    "new_sheet": false,
    "run_control": {
     "read_only": false
    }
   },
   "source": [
    "<font size= \"2\" color=\"blue\">Downloading the data and read it into a <em>pandas</em> dataframe.</font>"
   ]
  },
  {
   "cell_type": "code",
   "execution_count": 4,
   "metadata": {
    "button": false,
    "deletable": true,
    "new_sheet": false,
    "run_control": {
     "read_only": false
    }
   },
   "outputs": [
    {
     "data": {
      "text/html": [
       "<div>\n",
       "<style scoped>\n",
       "    .dataframe tbody tr th:only-of-type {\n",
       "        vertical-align: middle;\n",
       "    }\n",
       "\n",
       "    .dataframe tbody tr th {\n",
       "        vertical-align: top;\n",
       "    }\n",
       "\n",
       "    .dataframe thead th {\n",
       "        text-align: right;\n",
       "    }\n",
       "</style>\n",
       "<table border=\"1\" class=\"dataframe\">\n",
       "  <thead>\n",
       "    <tr style=\"text-align: right;\">\n",
       "      <th></th>\n",
       "      <th>Cement</th>\n",
       "      <th>Blast Furnace Slag</th>\n",
       "      <th>Fly Ash</th>\n",
       "      <th>Water</th>\n",
       "      <th>Superplasticizer</th>\n",
       "      <th>Coarse Aggregate</th>\n",
       "      <th>Fine Aggregate</th>\n",
       "      <th>Age</th>\n",
       "      <th>Strength</th>\n",
       "    </tr>\n",
       "  </thead>\n",
       "  <tbody>\n",
       "    <tr>\n",
       "      <th>0</th>\n",
       "      <td>540.0</td>\n",
       "      <td>0.0</td>\n",
       "      <td>0.0</td>\n",
       "      <td>162.0</td>\n",
       "      <td>2.5</td>\n",
       "      <td>1040.0</td>\n",
       "      <td>676.0</td>\n",
       "      <td>28</td>\n",
       "      <td>79.99</td>\n",
       "    </tr>\n",
       "    <tr>\n",
       "      <th>1</th>\n",
       "      <td>540.0</td>\n",
       "      <td>0.0</td>\n",
       "      <td>0.0</td>\n",
       "      <td>162.0</td>\n",
       "      <td>2.5</td>\n",
       "      <td>1055.0</td>\n",
       "      <td>676.0</td>\n",
       "      <td>28</td>\n",
       "      <td>61.89</td>\n",
       "    </tr>\n",
       "    <tr>\n",
       "      <th>2</th>\n",
       "      <td>332.5</td>\n",
       "      <td>142.5</td>\n",
       "      <td>0.0</td>\n",
       "      <td>228.0</td>\n",
       "      <td>0.0</td>\n",
       "      <td>932.0</td>\n",
       "      <td>594.0</td>\n",
       "      <td>270</td>\n",
       "      <td>40.27</td>\n",
       "    </tr>\n",
       "    <tr>\n",
       "      <th>3</th>\n",
       "      <td>332.5</td>\n",
       "      <td>142.5</td>\n",
       "      <td>0.0</td>\n",
       "      <td>228.0</td>\n",
       "      <td>0.0</td>\n",
       "      <td>932.0</td>\n",
       "      <td>594.0</td>\n",
       "      <td>365</td>\n",
       "      <td>41.05</td>\n",
       "    </tr>\n",
       "    <tr>\n",
       "      <th>4</th>\n",
       "      <td>198.6</td>\n",
       "      <td>132.4</td>\n",
       "      <td>0.0</td>\n",
       "      <td>192.0</td>\n",
       "      <td>0.0</td>\n",
       "      <td>978.4</td>\n",
       "      <td>825.5</td>\n",
       "      <td>360</td>\n",
       "      <td>44.30</td>\n",
       "    </tr>\n",
       "  </tbody>\n",
       "</table>\n",
       "</div>"
      ],
      "text/plain": [
       "   Cement  Blast Furnace Slag  Fly Ash  Water  Superplasticizer  \\\n",
       "0   540.0                 0.0      0.0  162.0               2.5   \n",
       "1   540.0                 0.0      0.0  162.0               2.5   \n",
       "2   332.5               142.5      0.0  228.0               0.0   \n",
       "3   332.5               142.5      0.0  228.0               0.0   \n",
       "4   198.6               132.4      0.0  192.0               0.0   \n",
       "\n",
       "   Coarse Aggregate  Fine Aggregate  Age  Strength  \n",
       "0            1040.0           676.0   28     79.99  \n",
       "1            1055.0           676.0   28     61.89  \n",
       "2             932.0           594.0  270     40.27  \n",
       "3             932.0           594.0  365     41.05  \n",
       "4             978.4           825.5  360     44.30  "
      ]
     },
     "execution_count": 4,
     "metadata": {},
     "output_type": "execute_result"
    }
   ],
   "source": [
    "cd = pd.read_csv('https://cocl.us/concrete_data')\n",
    "cd.head()"
   ]
  },
  {
   "cell_type": "markdown",
   "metadata": {},
   "source": [
    "#### Lets see the shape of the dataframe and the number of examples we have"
   ]
  },
  {
   "cell_type": "code",
   "execution_count": 5,
   "metadata": {},
   "outputs": [
    {
     "data": {
      "text/plain": [
       "(1030, 9)"
      ]
     },
     "execution_count": 5,
     "metadata": {},
     "output_type": "execute_result"
    }
   ],
   "source": [
    "cd.shape"
   ]
  },
  {
   "cell_type": "markdown",
   "metadata": {},
   "source": [
    "#### Lets see a brief statistical description of the data provided"
   ]
  },
  {
   "cell_type": "code",
   "execution_count": 7,
   "metadata": {},
   "outputs": [
    {
     "data": {
      "text/html": [
       "<div>\n",
       "<style scoped>\n",
       "    .dataframe tbody tr th:only-of-type {\n",
       "        vertical-align: middle;\n",
       "    }\n",
       "\n",
       "    .dataframe tbody tr th {\n",
       "        vertical-align: top;\n",
       "    }\n",
       "\n",
       "    .dataframe thead th {\n",
       "        text-align: right;\n",
       "    }\n",
       "</style>\n",
       "<table border=\"1\" class=\"dataframe\">\n",
       "  <thead>\n",
       "    <tr style=\"text-align: right;\">\n",
       "      <th></th>\n",
       "      <th>Cement</th>\n",
       "      <th>Blast Furnace Slag</th>\n",
       "      <th>Fly Ash</th>\n",
       "      <th>Water</th>\n",
       "      <th>Superplasticizer</th>\n",
       "      <th>Coarse Aggregate</th>\n",
       "      <th>Fine Aggregate</th>\n",
       "      <th>Age</th>\n",
       "      <th>Strength</th>\n",
       "    </tr>\n",
       "  </thead>\n",
       "  <tbody>\n",
       "    <tr>\n",
       "      <th>count</th>\n",
       "      <td>1030.000000</td>\n",
       "      <td>1030.000000</td>\n",
       "      <td>1030.000000</td>\n",
       "      <td>1030.000000</td>\n",
       "      <td>1030.000000</td>\n",
       "      <td>1030.000000</td>\n",
       "      <td>1030.000000</td>\n",
       "      <td>1030.000000</td>\n",
       "      <td>1030.000000</td>\n",
       "    </tr>\n",
       "    <tr>\n",
       "      <th>mean</th>\n",
       "      <td>281.167864</td>\n",
       "      <td>73.895825</td>\n",
       "      <td>54.188350</td>\n",
       "      <td>181.567282</td>\n",
       "      <td>6.204660</td>\n",
       "      <td>972.918932</td>\n",
       "      <td>773.580485</td>\n",
       "      <td>45.662136</td>\n",
       "      <td>35.817961</td>\n",
       "    </tr>\n",
       "    <tr>\n",
       "      <th>std</th>\n",
       "      <td>104.506364</td>\n",
       "      <td>86.279342</td>\n",
       "      <td>63.997004</td>\n",
       "      <td>21.354219</td>\n",
       "      <td>5.973841</td>\n",
       "      <td>77.753954</td>\n",
       "      <td>80.175980</td>\n",
       "      <td>63.169912</td>\n",
       "      <td>16.705742</td>\n",
       "    </tr>\n",
       "    <tr>\n",
       "      <th>min</th>\n",
       "      <td>102.000000</td>\n",
       "      <td>0.000000</td>\n",
       "      <td>0.000000</td>\n",
       "      <td>121.800000</td>\n",
       "      <td>0.000000</td>\n",
       "      <td>801.000000</td>\n",
       "      <td>594.000000</td>\n",
       "      <td>1.000000</td>\n",
       "      <td>2.330000</td>\n",
       "    </tr>\n",
       "    <tr>\n",
       "      <th>25%</th>\n",
       "      <td>192.375000</td>\n",
       "      <td>0.000000</td>\n",
       "      <td>0.000000</td>\n",
       "      <td>164.900000</td>\n",
       "      <td>0.000000</td>\n",
       "      <td>932.000000</td>\n",
       "      <td>730.950000</td>\n",
       "      <td>7.000000</td>\n",
       "      <td>23.710000</td>\n",
       "    </tr>\n",
       "    <tr>\n",
       "      <th>50%</th>\n",
       "      <td>272.900000</td>\n",
       "      <td>22.000000</td>\n",
       "      <td>0.000000</td>\n",
       "      <td>185.000000</td>\n",
       "      <td>6.400000</td>\n",
       "      <td>968.000000</td>\n",
       "      <td>779.500000</td>\n",
       "      <td>28.000000</td>\n",
       "      <td>34.445000</td>\n",
       "    </tr>\n",
       "    <tr>\n",
       "      <th>75%</th>\n",
       "      <td>350.000000</td>\n",
       "      <td>142.950000</td>\n",
       "      <td>118.300000</td>\n",
       "      <td>192.000000</td>\n",
       "      <td>10.200000</td>\n",
       "      <td>1029.400000</td>\n",
       "      <td>824.000000</td>\n",
       "      <td>56.000000</td>\n",
       "      <td>46.135000</td>\n",
       "    </tr>\n",
       "    <tr>\n",
       "      <th>max</th>\n",
       "      <td>540.000000</td>\n",
       "      <td>359.400000</td>\n",
       "      <td>200.100000</td>\n",
       "      <td>247.000000</td>\n",
       "      <td>32.200000</td>\n",
       "      <td>1145.000000</td>\n",
       "      <td>992.600000</td>\n",
       "      <td>365.000000</td>\n",
       "      <td>82.600000</td>\n",
       "    </tr>\n",
       "  </tbody>\n",
       "</table>\n",
       "</div>"
      ],
      "text/plain": [
       "            Cement  Blast Furnace Slag      Fly Ash        Water  \\\n",
       "count  1030.000000         1030.000000  1030.000000  1030.000000   \n",
       "mean    281.167864           73.895825    54.188350   181.567282   \n",
       "std     104.506364           86.279342    63.997004    21.354219   \n",
       "min     102.000000            0.000000     0.000000   121.800000   \n",
       "25%     192.375000            0.000000     0.000000   164.900000   \n",
       "50%     272.900000           22.000000     0.000000   185.000000   \n",
       "75%     350.000000          142.950000   118.300000   192.000000   \n",
       "max     540.000000          359.400000   200.100000   247.000000   \n",
       "\n",
       "       Superplasticizer  Coarse Aggregate  Fine Aggregate          Age  \\\n",
       "count       1030.000000       1030.000000     1030.000000  1030.000000   \n",
       "mean           6.204660        972.918932      773.580485    45.662136   \n",
       "std            5.973841         77.753954       80.175980    63.169912   \n",
       "min            0.000000        801.000000      594.000000     1.000000   \n",
       "25%            0.000000        932.000000      730.950000     7.000000   \n",
       "50%            6.400000        968.000000      779.500000    28.000000   \n",
       "75%           10.200000       1029.400000      824.000000    56.000000   \n",
       "max           32.200000       1145.000000      992.600000   365.000000   \n",
       "\n",
       "          Strength  \n",
       "count  1030.000000  \n",
       "mean     35.817961  \n",
       "std      16.705742  \n",
       "min       2.330000  \n",
       "25%      23.710000  \n",
       "50%      34.445000  \n",
       "75%      46.135000  \n",
       "max      82.600000  "
      ]
     },
     "execution_count": 7,
     "metadata": {},
     "output_type": "execute_result"
    }
   ],
   "source": [
    "cd.describe()"
   ]
  },
  {
   "cell_type": "markdown",
   "metadata": {},
   "source": [
    "#### Lets use seaborn now to plot regression between each variable to see how strong of an effect each variable has on strength"
   ]
  },
  {
   "cell_type": "markdown",
   "metadata": {},
   "source": [
    "<p> We have 9 columns in the dataframe read. Out of which we want to use the first eight from <em> Cement:Age </em> as our features in the neural network and <em>Strength</em> as the target</p>"
   ]
  },
  {
   "cell_type": "code",
   "execution_count": 8,
   "metadata": {},
   "outputs": [
    {
     "data": {
      "text/plain": [
       "<matplotlib.axes._subplots.AxesSubplot at 0x7f5c9b715198>"
      ]
     },
     "execution_count": 8,
     "metadata": {},
     "output_type": "execute_result"
    },
    {
     "data": {
      "image/png": "[encoded data removed]",
      "text/plain": [
       "<Figure size 1080x720 with 9 Axes>"
      ]
     },
     "metadata": {
      "needs_background": "light"
     },
     "output_type": "display_data"
    }
   ],
   "source": [
    "f, axes = plt.subplots(3,3, figsize = (15,10), sharex = False, sharey =False, squeeze = True)\n",
    "sns.regplot(x = 'Cement', y = 'Strength', data = cd,ax=axes[0,0])\n",
    "sns.regplot(x = 'Blast Furnace Slag', y = 'Strength', data = cd,ax=axes[0,1])\n",
    "sns.regplot(x = 'Fly Ash', y = 'Strength', data = cd, ax=axes[0,2])\n",
    "sns.regplot(x = 'Water', y = 'Strength', data = cd,ax=axes[1,0])\n",
    "sns.regplot(x = 'Superplasticizer', y = 'Strength', data = cd,ax=axes[1,1])\n",
    "sns.regplot(x = 'Coarse Aggregate', y = 'Strength', data = cd,ax=axes[1,2])\n",
    "sns.regplot(x = 'Fine Aggregate', y = 'Strength', data = cd,ax=axes[2,0])\n",
    "sns.regplot(x = 'Age', y = 'Strength', data = cd,ax=axes[2,1])\n",
    "sns.regplot(x = 'Strength', y = 'Strength', data = cd,ax=axes[2,2])"
   ]
  },
  {
   "cell_type": "markdown",
   "metadata": {},
   "source": [
    "#### Checking for missing values"
   ]
  },
  {
   "cell_type": "code",
   "execution_count": 10,
   "metadata": {
    "button": false,
    "deletable": true,
    "new_sheet": false,
    "run_control": {
     "read_only": false
    }
   },
   "outputs": [
    {
     "data": {
      "text/plain": [
       "Cement                0\n",
       "Blast Furnace Slag    0\n",
       "Fly Ash               0\n",
       "Water                 0\n",
       "Superplasticizer      0\n",
       "Coarse Aggregate      0\n",
       "Fine Aggregate        0\n",
       "Age                   0\n",
       "Strength              0\n",
       "dtype: int64"
      ]
     },
     "execution_count": 10,
     "metadata": {},
     "output_type": "execute_result"
    }
   ],
   "source": [
    "cd.isnull().sum()"
   ]
  },
  {
   "cell_type": "markdown",
   "metadata": {},
   "source": [
    "#### No missing values found, hence we continue to feature extraction and setting target variable"
   ]
  },
  {
   "cell_type": "code",
   "execution_count": 13,
   "metadata": {},
   "outputs": [
    {
     "data": {
      "text/html": [
       "<div>\n",
       "<style scoped>\n",
       "    .dataframe tbody tr th:only-of-type {\n",
       "        vertical-align: middle;\n",
       "    }\n",
       "\n",
       "    .dataframe tbody tr th {\n",
       "        vertical-align: top;\n",
       "    }\n",
       "\n",
       "    .dataframe thead th {\n",
       "        text-align: right;\n",
       "    }\n",
       "</style>\n",
       "<table border=\"1\" class=\"dataframe\">\n",
       "  <thead>\n",
       "    <tr style=\"text-align: right;\">\n",
       "      <th></th>\n",
       "      <th>Cement</th>\n",
       "      <th>Blast Furnace Slag</th>\n",
       "      <th>Fly Ash</th>\n",
       "      <th>Water</th>\n",
       "      <th>Superplasticizer</th>\n",
       "      <th>Coarse Aggregate</th>\n",
       "      <th>Fine Aggregate</th>\n",
       "      <th>Age</th>\n",
       "    </tr>\n",
       "  </thead>\n",
       "  <tbody>\n",
       "    <tr>\n",
       "      <th>0</th>\n",
       "      <td>540.0</td>\n",
       "      <td>0.0</td>\n",
       "      <td>0.0</td>\n",
       "      <td>162.0</td>\n",
       "      <td>2.5</td>\n",
       "      <td>1040.0</td>\n",
       "      <td>676.0</td>\n",
       "      <td>28</td>\n",
       "    </tr>\n",
       "    <tr>\n",
       "      <th>1</th>\n",
       "      <td>540.0</td>\n",
       "      <td>0.0</td>\n",
       "      <td>0.0</td>\n",
       "      <td>162.0</td>\n",
       "      <td>2.5</td>\n",
       "      <td>1055.0</td>\n",
       "      <td>676.0</td>\n",
       "      <td>28</td>\n",
       "    </tr>\n",
       "    <tr>\n",
       "      <th>2</th>\n",
       "      <td>332.5</td>\n",
       "      <td>142.5</td>\n",
       "      <td>0.0</td>\n",
       "      <td>228.0</td>\n",
       "      <td>0.0</td>\n",
       "      <td>932.0</td>\n",
       "      <td>594.0</td>\n",
       "      <td>270</td>\n",
       "    </tr>\n",
       "    <tr>\n",
       "      <th>3</th>\n",
       "      <td>332.5</td>\n",
       "      <td>142.5</td>\n",
       "      <td>0.0</td>\n",
       "      <td>228.0</td>\n",
       "      <td>0.0</td>\n",
       "      <td>932.0</td>\n",
       "      <td>594.0</td>\n",
       "      <td>365</td>\n",
       "    </tr>\n",
       "    <tr>\n",
       "      <th>4</th>\n",
       "      <td>198.6</td>\n",
       "      <td>132.4</td>\n",
       "      <td>0.0</td>\n",
       "      <td>192.0</td>\n",
       "      <td>0.0</td>\n",
       "      <td>978.4</td>\n",
       "      <td>825.5</td>\n",
       "      <td>360</td>\n",
       "    </tr>\n",
       "  </tbody>\n",
       "</table>\n",
       "</div>"
      ],
      "text/plain": [
       "   Cement  Blast Furnace Slag  Fly Ash  Water  Superplasticizer  \\\n",
       "0   540.0                 0.0      0.0  162.0               2.5   \n",
       "1   540.0                 0.0      0.0  162.0               2.5   \n",
       "2   332.5               142.5      0.0  228.0               0.0   \n",
       "3   332.5               142.5      0.0  228.0               0.0   \n",
       "4   198.6               132.4      0.0  192.0               0.0   \n",
       "\n",
       "   Coarse Aggregate  Fine Aggregate  Age  \n",
       "0            1040.0           676.0   28  \n",
       "1            1055.0           676.0   28  \n",
       "2             932.0           594.0  270  \n",
       "3             932.0           594.0  365  \n",
       "4             978.4           825.5  360  "
      ]
     },
     "execution_count": 13,
     "metadata": {},
     "output_type": "execute_result"
    }
   ],
   "source": [
    "cd_col = cd.columns\n",
    "predictor = cd[cd_col[0:8]]\n",
    "predictor.head()"
   ]
  },
  {
   "cell_type": "code",
   "execution_count": 14,
   "metadata": {},
   "outputs": [
    {
     "data": {
      "text/plain": [
       "0    79.99\n",
       "1    61.89\n",
       "2    40.27\n",
       "3    41.05\n",
       "4    44.30\n",
       "Name: Strength, dtype: float64"
      ]
     },
     "execution_count": 14,
     "metadata": {},
     "output_type": "execute_result"
    }
   ],
   "source": [
    "target = cd[cd.columns[8]]\n",
    "target.head()"
   ]
  },
  {
   "cell_type": "markdown",
   "metadata": {
    "button": false,
    "deletable": true,
    "new_sheet": false,
    "run_control": {
     "read_only": false
    }
   },
   "source": [
    "#### Normalize the data by substracting the mean and dividing by the standard deviation."
   ]
  },
  {
   "cell_type": "code",
   "execution_count": 15,
   "metadata": {
    "button": false,
    "deletable": true,
    "new_sheet": false,
    "run_control": {
     "read_only": false
    }
   },
   "outputs": [
    {
     "data": {
      "text/html": [
       "<div>\n",
       "<style scoped>\n",
       "    .dataframe tbody tr th:only-of-type {\n",
       "        vertical-align: middle;\n",
       "    }\n",
       "\n",
       "    .dataframe tbody tr th {\n",
       "        vertical-align: top;\n",
       "    }\n",
       "\n",
       "    .dataframe thead th {\n",
       "        text-align: right;\n",
       "    }\n",
       "</style>\n",
       "<table border=\"1\" class=\"dataframe\">\n",
       "  <thead>\n",
       "    <tr style=\"text-align: right;\">\n",
       "      <th></th>\n",
       "      <th>Cement</th>\n",
       "      <th>Blast Furnace Slag</th>\n",
       "      <th>Fly Ash</th>\n",
       "      <th>Water</th>\n",
       "      <th>Superplasticizer</th>\n",
       "      <th>Coarse Aggregate</th>\n",
       "      <th>Fine Aggregate</th>\n",
       "      <th>Age</th>\n",
       "    </tr>\n",
       "  </thead>\n",
       "  <tbody>\n",
       "    <tr>\n",
       "      <th>0</th>\n",
       "      <td>2.476712</td>\n",
       "      <td>-0.856472</td>\n",
       "      <td>-0.846733</td>\n",
       "      <td>-0.916319</td>\n",
       "      <td>-0.620147</td>\n",
       "      <td>0.862735</td>\n",
       "      <td>-1.217079</td>\n",
       "      <td>-0.279597</td>\n",
       "    </tr>\n",
       "    <tr>\n",
       "      <th>1</th>\n",
       "      <td>2.476712</td>\n",
       "      <td>-0.856472</td>\n",
       "      <td>-0.846733</td>\n",
       "      <td>-0.916319</td>\n",
       "      <td>-0.620147</td>\n",
       "      <td>1.055651</td>\n",
       "      <td>-1.217079</td>\n",
       "      <td>-0.279597</td>\n",
       "    </tr>\n",
       "    <tr>\n",
       "      <th>2</th>\n",
       "      <td>0.491187</td>\n",
       "      <td>0.795140</td>\n",
       "      <td>-0.846733</td>\n",
       "      <td>2.174405</td>\n",
       "      <td>-1.038638</td>\n",
       "      <td>-0.526262</td>\n",
       "      <td>-2.239829</td>\n",
       "      <td>3.551340</td>\n",
       "    </tr>\n",
       "    <tr>\n",
       "      <th>3</th>\n",
       "      <td>0.491187</td>\n",
       "      <td>0.795140</td>\n",
       "      <td>-0.846733</td>\n",
       "      <td>2.174405</td>\n",
       "      <td>-1.038638</td>\n",
       "      <td>-0.526262</td>\n",
       "      <td>-2.239829</td>\n",
       "      <td>5.055221</td>\n",
       "    </tr>\n",
       "    <tr>\n",
       "      <th>4</th>\n",
       "      <td>-0.790075</td>\n",
       "      <td>0.678079</td>\n",
       "      <td>-0.846733</td>\n",
       "      <td>0.488555</td>\n",
       "      <td>-1.038638</td>\n",
       "      <td>0.070492</td>\n",
       "      <td>0.647569</td>\n",
       "      <td>4.976069</td>\n",
       "    </tr>\n",
       "  </tbody>\n",
       "</table>\n",
       "</div>"
      ],
      "text/plain": [
       "     Cement  Blast Furnace Slag   Fly Ash     Water  Superplasticizer  \\\n",
       "0  2.476712           -0.856472 -0.846733 -0.916319         -0.620147   \n",
       "1  2.476712           -0.856472 -0.846733 -0.916319         -0.620147   \n",
       "2  0.491187            0.795140 -0.846733  2.174405         -1.038638   \n",
       "3  0.491187            0.795140 -0.846733  2.174405         -1.038638   \n",
       "4 -0.790075            0.678079 -0.846733  0.488555         -1.038638   \n",
       "\n",
       "   Coarse Aggregate  Fine Aggregate       Age  \n",
       "0          0.862735       -1.217079 -0.279597  \n",
       "1          1.055651       -1.217079 -0.279597  \n",
       "2         -0.526262       -2.239829  3.551340  \n",
       "3         -0.526262       -2.239829  5.055221  \n",
       "4          0.070492        0.647569  4.976069  "
      ]
     },
     "execution_count": 15,
     "metadata": {},
     "output_type": "execute_result"
    }
   ],
   "source": [
    "predictors_norm = (predictor - predictor.mean()) / predictor.std()\n",
    "predictors_norm.head()"
   ]
  },
  {
   "cell_type": "markdown",
   "metadata": {},
   "source": [
    "#### Lets use sklearn library for the purpose of splitting training train and test data in the ratio of 0.7:0.3 in random state."
   ]
  },
  {
   "cell_type": "markdown",
   "metadata": {},
   "source": [
    "Let's save the number of predictors to *n_x* since we will need this number when building our network."
   ]
  },
  {
   "cell_type": "code",
   "execution_count": 16,
   "metadata": {
    "button": false,
    "deletable": true,
    "new_sheet": false,
    "run_control": {
     "read_only": false
    }
   },
   "outputs": [
    {
     "name": "stdout",
     "output_type": "stream",
     "text": [
      "8\n"
     ]
    }
   ],
   "source": [
    "n_x = predictors_norm.shape[1] # number of predictors\n",
    "print(n_x)"
   ]
  },
  {
   "cell_type": "code",
   "execution_count": 17,
   "metadata": {},
   "outputs": [
    {
     "data": {
      "text/html": [
       "<div>\n",
       "<style scoped>\n",
       "    .dataframe tbody tr th:only-of-type {\n",
       "        vertical-align: middle;\n",
       "    }\n",
       "\n",
       "    .dataframe tbody tr th {\n",
       "        vertical-align: top;\n",
       "    }\n",
       "\n",
       "    .dataframe thead th {\n",
       "        text-align: right;\n",
       "    }\n",
       "</style>\n",
       "<table border=\"1\" class=\"dataframe\">\n",
       "  <thead>\n",
       "    <tr style=\"text-align: right;\">\n",
       "      <th></th>\n",
       "      <th>Cement</th>\n",
       "      <th>Blast Furnace Slag</th>\n",
       "      <th>Fly Ash</th>\n",
       "      <th>Water</th>\n",
       "      <th>Superplasticizer</th>\n",
       "      <th>Coarse Aggregate</th>\n",
       "      <th>Fine Aggregate</th>\n",
       "      <th>Age</th>\n",
       "    </tr>\n",
       "  </thead>\n",
       "  <tbody>\n",
       "    <tr>\n",
       "      <th>185</th>\n",
       "      <td>-0.562338</td>\n",
       "      <td>-0.856472</td>\n",
       "      <td>0.664276</td>\n",
       "      <td>0.362117</td>\n",
       "      <td>-0.285354</td>\n",
       "      <td>-0.074838</td>\n",
       "      <td>1.206340</td>\n",
       "      <td>-0.501222</td>\n",
       "    </tr>\n",
       "    <tr>\n",
       "      <th>286</th>\n",
       "      <td>-0.954658</td>\n",
       "      <td>-0.856472</td>\n",
       "      <td>1.762765</td>\n",
       "      <td>-0.560418</td>\n",
       "      <td>0.233575</td>\n",
       "      <td>1.063368</td>\n",
       "      <td>0.052628</td>\n",
       "      <td>-0.279597</td>\n",
       "    </tr>\n",
       "    <tr>\n",
       "      <th>600</th>\n",
       "      <td>0.553384</td>\n",
       "      <td>-0.856472</td>\n",
       "      <td>-0.846733</td>\n",
       "      <td>0.722701</td>\n",
       "      <td>-1.038638</td>\n",
       "      <td>-0.063263</td>\n",
       "      <td>0.092540</td>\n",
       "      <td>-0.501222</td>\n",
       "    </tr>\n",
       "    <tr>\n",
       "      <th>691</th>\n",
       "      <td>-0.661853</td>\n",
       "      <td>0.781232</td>\n",
       "      <td>-0.846733</td>\n",
       "      <td>1.027091</td>\n",
       "      <td>-1.038638</td>\n",
       "      <td>0.006187</td>\n",
       "      <td>-0.294109</td>\n",
       "      <td>-0.675355</td>\n",
       "    </tr>\n",
       "    <tr>\n",
       "      <th>474</th>\n",
       "      <td>1.577245</td>\n",
       "      <td>-0.578306</td>\n",
       "      <td>0.387700</td>\n",
       "      <td>-0.916319</td>\n",
       "      <td>0.685545</td>\n",
       "      <td>-0.076124</td>\n",
       "      <td>-0.768067</td>\n",
       "      <td>-0.279597</td>\n",
       "    </tr>\n",
       "  </tbody>\n",
       "</table>\n",
       "</div>"
      ],
      "text/plain": [
       "       Cement  Blast Furnace Slag   Fly Ash     Water  Superplasticizer  \\\n",
       "185 -0.562338           -0.856472  0.664276  0.362117         -0.285354   \n",
       "286 -0.954658           -0.856472  1.762765 -0.560418          0.233575   \n",
       "600  0.553384           -0.856472 -0.846733  0.722701         -1.038638   \n",
       "691 -0.661853            0.781232 -0.846733  1.027091         -1.038638   \n",
       "474  1.577245           -0.578306  0.387700 -0.916319          0.685545   \n",
       "\n",
       "     Coarse Aggregate  Fine Aggregate       Age  \n",
       "185         -0.074838        1.206340 -0.501222  \n",
       "286          1.063368        0.052628 -0.279597  \n",
       "600         -0.063263        0.092540 -0.501222  \n",
       "691          0.006187       -0.294109 -0.675355  \n",
       "474         -0.076124       -0.768067 -0.279597  "
      ]
     },
     "execution_count": 17,
     "metadata": {},
     "output_type": "execute_result"
    }
   ],
   "source": [
    "from sklearn.model_selection import train_test_split\n",
    "X = predictors_norm\n",
    "y= target\n",
    "X_train, X_test, y_train, y_test = train_test_split(X, y, test_size=0.30, random_state = 1)\n",
    "X_train.head()"
   ]
  },
  {
   "cell_type": "code",
   "execution_count": 18,
   "metadata": {},
   "outputs": [
    {
     "data": {
      "text/plain": [
       "(721, 8)"
      ]
     },
     "execution_count": 18,
     "metadata": {},
     "output_type": "execute_result"
    }
   ],
   "source": [
    "X_train.shape"
   ]
  },
  {
   "cell_type": "code",
   "execution_count": 19,
   "metadata": {},
   "outputs": [
    {
     "data": {
      "text/plain": [
       "(309, 8)"
      ]
     },
     "execution_count": 19,
     "metadata": {},
     "output_type": "execute_result"
    }
   ],
   "source": [
    "X_test.shape"
   ]
  },
  {
   "cell_type": "code",
   "execution_count": 20,
   "metadata": {},
   "outputs": [
    {
     "name": "stdout",
     "output_type": "stream",
     "text": [
      "(721,) (309,)\n"
     ]
    }
   ],
   "source": [
    "print(y_train.shape, y_test.shape)"
   ]
  },
  {
   "cell_type": "markdown",
   "metadata": {
    "button": false,
    "deletable": true,
    "new_sheet": false,
    "run_control": {
     "read_only": false
    }
   },
   "source": [
    "<h2 align= center><font color=\"DarkRed\" face=\"veranda\"> <b> Building the neural network (NN) model </b> </font></h2>"
   ]
  },
  {
   "cell_type": "markdown",
   "metadata": {},
   "source": [
    "#### Importing model and layers for defining NN architecture"
   ]
  },
  {
   "cell_type": "code",
   "execution_count": 21,
   "metadata": {
    "button": false,
    "deletable": true,
    "new_sheet": false,
    "run_control": {
     "read_only": false
    }
   },
   "outputs": [],
   "source": [
    "from keras.models import Sequential\n",
    "from keras.layers import Dense"
   ]
  },
  {
   "cell_type": "markdown",
   "metadata": {
    "button": false,
    "deletable": true,
    "new_sheet": false,
    "run_control": {
     "read_only": false
    }
   },
   "source": [
    "Defining a function that defines our regression model for us so that we can conveniently call it to create our model."
   ]
  },
  {
   "cell_type": "code",
   "execution_count": 22,
   "metadata": {
    "button": false,
    "deletable": true,
    "new_sheet": false,
    "run_control": {
     "read_only": false
    }
   },
   "outputs": [],
   "source": [
    "# define regression model\n",
    "def regression_model():\n",
    "    # create model\n",
    "    model = Sequential()\n",
    "    model.add(Dense(10, activation='relu', input_shape=(n_x,)))\n",
    "    model.add(Dense(1))\n",
    "    \n",
    "    # compile model\n",
    "    model.compile(optimizer='adam', loss='mean_squared_error')\n",
    "    return model"
   ]
  },
  {
   "cell_type": "markdown",
   "metadata": {},
   "source": [
    "The above function create a model that has a hidden layers of size 10 units and *relu* as the activation function. "
   ]
  },
  {
   "cell_type": "markdown",
   "metadata": {
    "button": false,
    "deletable": true,
    "new_sheet": false,
    "run_control": {
     "read_only": false
    }
   },
   "source": [
    "#### Train and Test the Network"
   ]
  },
  {
   "cell_type": "markdown",
   "metadata": {},
   "source": [
    "Let's call the function now to create our model."
   ]
  },
  {
   "cell_type": "code",
   "execution_count": 23,
   "metadata": {
    "button": false,
    "deletable": true,
    "new_sheet": false,
    "run_control": {
     "read_only": false
    }
   },
   "outputs": [],
   "source": [
    "# build the model\n",
    "model = regression_model()"
   ]
  },
  {
   "cell_type": "markdown",
   "metadata": {},
   "source": [
    "Next, we will train and test the model at the same time using the *fit* method. We will leave out 30% of the data for validation and we will train the model for 50 epochs."
   ]
  },
  {
   "cell_type": "code",
   "execution_count": 24,
   "metadata": {},
   "outputs": [
    {
     "name": "stdout",
     "output_type": "stream",
     "text": [
      "Epoch 1/50\n",
      "721/721 [==============================] - 1s 725us/step - loss: 1509.6458\n",
      "Epoch 2/50\n",
      "721/721 [==============================] - 0s 334us/step - loss: 1492.9493\n",
      "Epoch 3/50\n",
      "721/721 [==============================] - 0s 282us/step - loss: 1475.7167\n",
      "Epoch 4/50\n",
      "721/721 [==============================] - 0s 329us/step - loss: 1457.4276\n",
      "Epoch 5/50\n",
      "721/721 [==============================] - 0s 362us/step - loss: 1437.86260s - loss: 143\n",
      "Epoch 6/50\n",
      "721/721 [==============================] - 0s 389us/step - loss: 1417.4735\n",
      "Epoch 7/50\n",
      "721/721 [==============================] - 0s 362us/step - loss: 1395.8618\n",
      "Epoch 8/50\n",
      "721/721 [==============================] - 0s 333us/step - loss: 1372.9458\n",
      "Epoch 9/50\n",
      "721/721 [==============================] - 0s 305us/step - loss: 1348.7692\n",
      "Epoch 10/50\n",
      "721/721 [==============================] - 0s 309us/step - loss: 1323.4142\n",
      "Epoch 11/50\n",
      "721/721 [==============================] - 0s 272us/step - loss: 1296.8124\n",
      "Epoch 12/50\n",
      "721/721 [==============================] - 0s 275us/step - loss: 1268.8241\n",
      "Epoch 13/50\n",
      "721/721 [==============================] - 0s 281us/step - loss: 1239.6779\n",
      "Epoch 14/50\n",
      "721/721 [==============================] - 0s 301us/step - loss: 1209.3471\n",
      "Epoch 15/50\n",
      "721/721 [==============================] - 0s 274us/step - loss: 1177.8003\n",
      "Epoch 16/50\n",
      "721/721 [==============================] - 0s 278us/step - loss: 1145.1057\n",
      "Epoch 17/50\n",
      "721/721 [==============================] - 0s 305us/step - loss: 1112.1177\n",
      "Epoch 18/50\n",
      "721/721 [==============================] - 0s 300us/step - loss: 1077.6328\n",
      "Epoch 19/50\n",
      "721/721 [==============================] - 0s 333us/step - loss: 1043.7345\n",
      "Epoch 20/50\n",
      "721/721 [==============================] - 0s 467us/step - loss: 1008.9821\n",
      "Epoch 21/50\n",
      "721/721 [==============================] - 0s 278us/step - loss: 973.6996\n",
      "Epoch 22/50\n",
      "721/721 [==============================] - 0s 335us/step - loss: 938.7144\n",
      "Epoch 23/50\n",
      "721/721 [==============================] - 0s 280us/step - loss: 903.5450\n",
      "Epoch 24/50\n",
      "721/721 [==============================] - 0s 333us/step - loss: 868.2909\n",
      "Epoch 25/50\n",
      "721/721 [==============================] - 0s 301us/step - loss: 833.1607\n",
      "Epoch 26/50\n",
      "721/721 [==============================] - 0s 303us/step - loss: 798.6868\n",
      "Epoch 27/50\n",
      "721/721 [==============================] - 0s 331us/step - loss: 764.6278\n",
      "Epoch 28/50\n",
      "721/721 [==============================] - 0s 308us/step - loss: 731.0433\n",
      "Epoch 29/50\n",
      "721/721 [==============================] - 0s 277us/step - loss: 697.5552\n",
      "Epoch 30/50\n",
      "721/721 [==============================] - 0s 284us/step - loss: 665.6036\n",
      "Epoch 31/50\n",
      "721/721 [==============================] - 0s 283us/step - loss: 634.0300\n",
      "Epoch 32/50\n",
      "721/721 [==============================] - 0s 282us/step - loss: 603.9937\n",
      "Epoch 33/50\n",
      "721/721 [==============================] - 0s 307us/step - loss: 574.6257\n",
      "Epoch 34/50\n",
      "721/721 [==============================] - 0s 277us/step - loss: 546.0074\n",
      "Epoch 35/50\n",
      "721/721 [==============================] - 0s 303us/step - loss: 519.1497\n",
      "Epoch 36/50\n",
      "721/721 [==============================] - 0s 328us/step - loss: 493.1521\n",
      "Epoch 37/50\n",
      "721/721 [==============================] - 0s 280us/step - loss: 468.0391\n",
      "Epoch 38/50\n",
      "721/721 [==============================] - 0s 305us/step - loss: 444.8847\n",
      "Epoch 39/50\n",
      "721/721 [==============================] - 0s 281us/step - loss: 422.2216\n",
      "Epoch 40/50\n",
      "721/721 [==============================] - 0s 334us/step - loss: 401.6701\n",
      "Epoch 41/50\n",
      "721/721 [==============================] - 0s 420us/step - loss: 382.1076\n",
      "Epoch 42/50\n",
      "721/721 [==============================] - 0s 446us/step - loss: 363.5575\n",
      "Epoch 43/50\n",
      "721/721 [==============================] - 0s 302us/step - loss: 347.0619\n",
      "Epoch 44/50\n",
      "721/721 [==============================] - 0s 331us/step - loss: 330.9130\n",
      "Epoch 45/50\n",
      "721/721 [==============================] - 0s 307us/step - loss: 316.2994\n",
      "Epoch 46/50\n",
      "721/721 [==============================] - 0s 306us/step - loss: 302.7425\n",
      "Epoch 47/50\n",
      "721/721 [==============================] - 0s 382us/step - loss: 290.4674\n",
      "Epoch 48/50\n",
      "721/721 [==============================] - 0s 471us/step - loss: 278.8732\n",
      "Epoch 49/50\n",
      "721/721 [==============================] - 0s 332us/step - loss: 268.5058\n",
      "Epoch 50/50\n",
      "721/721 [==============================] - 0s 387us/step - loss: 259.0291\n"
     ]
    }
   ],
   "source": [
    "# fit the model\n",
    "history=model.fit(X_train, y_train, epochs=50, verbose=1)"
   ]
  },
  {
   "cell_type": "markdown",
   "metadata": {},
   "source": [
    "#### lets find out the final value of loss = \"mean squared error\" in our model"
   ]
  },
  {
   "cell_type": "code",
   "execution_count": 25,
   "metadata": {},
   "outputs": [
    {
     "name": "stdout",
     "output_type": "stream",
     "text": [
      "259.02914602250564\n"
     ]
    }
   ],
   "source": [
    "loss_list = history.history['loss']\n",
    "print(loss_list[49])"
   ]
  },
  {
   "cell_type": "markdown",
   "metadata": {},
   "source": [
    "#### Lets also plot the graph of loss vs the epochs to see if the loss function continuously went down, which is a good sign of NN working good"
   ]
  },
  {
   "cell_type": "code",
   "execution_count": 26,
   "metadata": {},
   "outputs": [
    {
     "data": {
      "image/png": "[encoded data removed]",
      "text/plain": [
       "<Figure size 432x288 with 1 Axes>"
      ]
     },
     "metadata": {
      "needs_background": "light"
     },
     "output_type": "display_data"
    }
   ],
   "source": [
    "\n",
    "plt.plot(history.history['loss'])\n",
    "plt.title('Model loss')\n",
    "plt.ylabel('Loss')\n",
    "plt.xlabel('Epoch')\n",
    "plt.legend(['Train'], loc='upper right')\n",
    "plt.show()"
   ]
  },
  {
   "cell_type": "code",
   "execution_count": 27,
   "metadata": {},
   "outputs": [
    {
     "name": "stdout",
     "output_type": "stream",
     "text": [
      "309/309 [==============================] - 0s 255us/step\n"
     ]
    }
   ],
   "source": [
    "loss_test = model.evaluate(x=X_test, y=y_test, verbose=1)"
   ]
  },
  {
   "cell_type": "code",
   "execution_count": 28,
   "metadata": {},
   "outputs": [
    {
     "name": "stdout",
     "output_type": "stream",
     "text": [
      "292.62543712233264\n"
     ]
    }
   ],
   "source": [
    "print(loss_test)"
   ]
  },
  {
   "cell_type": "markdown",
   "metadata": {},
   "source": [
    "#### It can be seen that though the loss went down continuously but it never reached close to a steady state value. Hence, we can do better. "
   ]
  },
  {
   "cell_type": "markdown",
   "metadata": {},
   "source": [
    "### Running the process 50 times and creating a list of 'mse-mean squared error' for each run. "
   ]
  },
  {
   "cell_type": "code",
   "execution_count": 29,
   "metadata": {},
   "outputs": [
    {
     "name": "stdout",
     "output_type": "stream",
     "text": [
      "309/309 [==============================] - 0s 72us/step\n",
      "309/309 [==============================] - 0s 120us/step\n",
      "309/309 [==============================] - 0s 120us/step\n",
      "309/309 [==============================] - 0s 108us/step\n",
      "309/309 [==============================] - 0s 148us/step\n",
      "309/309 [==============================] - 0s 116us/step\n",
      "309/309 [==============================] - 0s 70us/step\n",
      "309/309 [==============================] - 0s 127us/step\n",
      "309/309 [==============================] - 0s 129us/step\n",
      "309/309 [==============================] - 0s 118us/step\n",
      "309/309 [==============================] - 0s 99us/step\n",
      "309/309 [==============================] - 0s 122us/step\n",
      "309/309 [==============================] - 0s 68us/step\n",
      "309/309 [==============================] - 0s 76us/step\n",
      "309/309 [==============================] - 0s 182us/step\n",
      "309/309 [==============================] - 0s 113us/step\n",
      "309/309 [==============================] - 0s 71us/step\n",
      "309/309 [==============================] - 0s 80us/step\n",
      "309/309 [==============================] - 0s 73us/step\n",
      "309/309 [==============================] - 0s 120us/step\n",
      "309/309 [==============================] - 0s 127us/step\n",
      "309/309 [==============================] - 0s 80us/step\n",
      "309/309 [==============================] - 0s 122us/step\n",
      "309/309 [==============================] - 0s 120us/step\n",
      "309/309 [==============================] - 0s 77us/step\n",
      "309/309 [==============================] - 0s 70us/step\n",
      "309/309 [==============================] - 0s 120us/step\n",
      "309/309 [==============================] - 0s 82us/step\n",
      "309/309 [==============================] - 0s 75us/step\n",
      "309/309 [==============================] - 0s 123us/step\n",
      "309/309 [==============================] - 0s 75us/step\n",
      "309/309 [==============================] - 0s 133us/step\n",
      "309/309 [==============================] - 0s 75us/step\n",
      "309/309 [==============================] - 0s 124us/step\n",
      "309/309 [==============================] - 0s 84us/step\n",
      "309/309 [==============================] - 0s 131us/step\n",
      "309/309 [==============================] - 0s 124us/step\n",
      "309/309 [==============================] - 0s 119us/step\n",
      "309/309 [==============================] - 0s 75us/step\n",
      "309/309 [==============================] - 0s 72us/step\n",
      "309/309 [==============================] - 0s 118us/step\n",
      "309/309 [==============================] - 0s 125us/step\n",
      "309/309 [==============================] - 0s 132us/step\n",
      "309/309 [==============================] - 0s 128us/step\n",
      "309/309 [==============================] - 0s 128us/step\n",
      "309/309 [==============================] - 0s 77us/step\n",
      "309/309 [==============================] - 0s 125us/step\n",
      "309/309 [==============================] - 0s 77us/step\n",
      "309/309 [==============================] - 0s 183us/step\n",
      "309/309 [==============================] - 0s 128us/step\n"
     ]
    }
   ],
   "source": [
    "mse_list = []\n",
    "for i in range(1,51):\n",
    "    model.fit(X_train, y_train, epochs=50, verbose=0)\n",
    "    loss_test = model.evaluate(x=X_test, y=y_test, verbose=1)\n",
    "    mse_list.append(loss_test)"
   ]
  },
  {
   "cell_type": "code",
   "execution_count": 30,
   "metadata": {},
   "outputs": [
    {
     "name": "stdout",
     "output_type": "stream",
     "text": [
      "[181.57285266863875, 141.40651828802905, 112.62714435367522, 88.63917827914834, 74.21157207303834, 65.65647769668728, 61.29416250333817, 59.16809367207647, 57.378848893742735, 56.154050265315284, 54.58116615320101, 53.6368645356311, 52.91205994442443, 52.24101693113259, 51.667204736505894, 51.25176480981524, 50.831682828637774, 50.50146179446125, 50.108638763427734, 49.41708712284619, 48.91705470409208, 48.787237371055824, 48.17923371151427, 47.926073845921984, 47.73821678285074, 47.42507928397663, 47.34648934768627, 47.241888459832154, 46.94144649567342, 46.89454918771886, 46.64600421695648, 46.414283431463645, 46.12996669880395, 46.1116522384693, 45.736554229143756, 45.464787850487966, 45.54432604150865, 45.362044646130414, 45.17955372634443, 45.17948413589626, 44.98167926825366, 44.98980656102251, 44.60199259785772, 44.49836381585081, 44.44856481953346, 44.23357177783756, 44.12604670848661, 44.083350764894945, 44.044421174379615, 44.09890972989277]\n"
     ]
    }
   ],
   "source": [
    "print(mse_list)"
   ]
  },
  {
   "cell_type": "markdown",
   "metadata": {},
   "source": [
    "#### finding out the mean and standard deviation of the values in mse_list"
   ]
  },
  {
   "cell_type": "code",
   "execution_count": 37,
   "metadata": {},
   "outputs": [
    {
     "name": "stdout",
     "output_type": "stream",
     "text": [
      "mean squared error is:55.89060959874619standard deviation of the mean squared error is:25.187203454833156\n"
     ]
    }
   ],
   "source": [
    "import statistics\n",
    "mean_mse = statistics.mean(mse_list)\n",
    "std_mse = statistics.stdev(mse_list)\n",
    "print(\"mean squared error is:\"+ str(mean_mse) +\"standard deviation of the mean squared error is:\"+str(std_mse))"
   ]
  },
  {
   "cell_type": "markdown",
   "metadata": {},
   "source": [
    "<h3 align=\"center\"><font color=\"DarkRed\"><u>Part - C</u></font></h3>"
   ]
  },
  {
   "cell_type": "markdown",
   "metadata": {},
   "source": [
    "Repeating Part B with epochs = 100"
   ]
  },
  {
   "cell_type": "code",
   "execution_count": 58,
   "metadata": {},
   "outputs": [
    {
     "name": "stdout",
     "output_type": "stream",
     "text": [
      "309/309 [==============================] - 0s 129us/step\n",
      "309/309 [==============================] - 0s 121us/step\n",
      "309/309 [==============================] - 0s 132us/step\n",
      "309/309 [==============================] - 0s 121us/step\n",
      "309/309 [==============================] - 0s 123us/step\n",
      "309/309 [==============================] - 0s 129us/step\n",
      "309/309 [==============================] - 0s 124us/step\n",
      "309/309 [==============================] - 0s 78us/step\n",
      "309/309 [==============================] - 0s 81us/step\n",
      "309/309 [==============================] - 0s 109us/step\n",
      "309/309 [==============================] - 0s 124us/step\n",
      "309/309 [==============================] - 0s 188us/step\n",
      "309/309 [==============================] - 0s 129us/step\n",
      "309/309 [==============================] - 0s 81us/step\n",
      "309/309 [==============================] - 0s 81us/step\n",
      "309/309 [==============================] - 0s 113us/step\n",
      "309/309 [==============================] - 0s 108us/step\n",
      "309/309 [==============================] - 0s 120us/step\n",
      "309/309 [==============================] - 0s 127us/step\n",
      "309/309 [==============================] - 0s 73us/step\n",
      "309/309 [==============================] - 0s 123us/step\n",
      "309/309 [==============================] - 0s 127us/step\n",
      "309/309 [==============================] - 0s 123us/step\n",
      "309/309 [==============================] - 0s 123us/step\n",
      "309/309 [==============================] - 0s 73us/step\n",
      "309/309 [==============================] - 0s 134us/step\n",
      "309/309 [==============================] - 0s 130us/step\n",
      "309/309 [==============================] - 0s 122us/step\n",
      "309/309 [==============================] - 0s 77us/step\n",
      "309/309 [==============================] - 0s 131us/step\n",
      "309/309 [==============================] - 0s 118us/step\n",
      "309/309 [==============================] - 0s 72us/step\n",
      "309/309 [==============================] - 0s 121us/step\n",
      "309/309 [==============================] - 0s 76us/step\n",
      "309/309 [==============================] - 0s 79us/step\n",
      "309/309 [==============================] - 0s 76us/step\n",
      "309/309 [==============================] - 0s 127us/step\n",
      "309/309 [==============================] - 0s 124us/step\n",
      "309/309 [==============================] - 0s 113us/step\n",
      "309/309 [==============================] - 0s 121us/step\n",
      "309/309 [==============================] - 0s 74us/step\n",
      "309/309 [==============================] - 0s 74us/step\n",
      "309/309 [==============================] - 0s 115us/step\n",
      "309/309 [==============================] - 0s 77us/step\n",
      "309/309 [==============================] - 0s 130us/step\n",
      "309/309 [==============================] - 0s 71us/step\n",
      "309/309 [==============================] - 0s 136us/step\n",
      "309/309 [==============================] - 0s 117us/step\n",
      "309/309 [==============================] - 0s 79us/step\n",
      "309/309 [==============================] - 0s 82us/step\n"
     ]
    }
   ],
   "source": [
    "mse_listC = []\n",
    "for i in range(1,51):\n",
    "    model.fit(X_train, y_train, epochs=100, verbose=0)\n",
    "    loss_testC = model.evaluate(x=X_test, y=y_test, verbose=1)\n",
    "    mse_listC.append(loss_testC)"
   ]
  },
  {
   "cell_type": "code",
   "execution_count": 59,
   "metadata": {},
   "outputs": [
    {
     "name": "stdout",
     "output_type": "stream",
     "text": [
      "[53.52136355156266, 53.54375889849123, 53.64690715209566, 53.619980808986426, 53.584712550092284, 53.79183899468974, 53.765437623057935, 53.679735659009815, 53.75688836798313, 53.542592193702276, 53.5877334446583, 53.72185543517079, 53.708501661479666, 53.84336017250629, 54.019141743484056, 54.29707450002528, 54.581865390913386, 54.43432708542709, 54.54186963572086, 54.85035162373268, 54.680380886040844, 54.60167944701358, 54.80283386576137, 54.83701272612637, 54.59752932798515, 54.65856784215637, 54.55735675108085, 54.653518158255274, 54.43296791743306, 54.467316649106714, 54.4334488655757, 54.23538000606796, 53.80527929657871, 53.83856727081595, 53.770732657423295, 53.61731674293098, 53.6481099298471, 53.52289551670111, 53.52045575237583, 53.32447589022442, 53.41753424487068, 53.372348069373075, 53.42947997553063, 53.49859040146121, 53.53273136175952, 53.41580034768312, 53.38019212395628, 53.04703863693287, 53.478271793007465, 53.30656203482915]\n"
     ]
    }
   ],
   "source": [
    "print(mse_listC)"
   ]
  },
  {
   "cell_type": "code",
   "execution_count": 60,
   "metadata": {},
   "outputs": [
    {
     "name": "stdout",
     "output_type": "stream",
     "text": [
      "mean squared error is:53.918473419633884standard deviation of the mean squared error is:0.5064607237468232\n"
     ]
    }
   ],
   "source": [
    "import statistics\n",
    "mean_mseC = statistics.mean(mse_listC)\n",
    "std_mseC = statistics.stdev(mse_listC)\n",
    "print(\"mean squared error is:\"+ str(mean_mseC) +\"standard deviation of the mean squared error is:\"+str(std_mseC))"
   ]
  },
  {
   "cell_type": "markdown",
   "metadata": {},
   "source": [
    "<h3 align=\"center\"><font color=\"DarkRed\"><u>Part - D</u></font></h3>"
   ]
  },
  {
   "cell_type": "markdown",
   "metadata": {},
   "source": [
    "Repeating part B (i.e with 50 epochs), but with a different NN architecture, three hidden layers with 10 units each and 'relu' activation function."
   ]
  },
  {
   "cell_type": "code",
   "execution_count": 63,
   "metadata": {},
   "outputs": [],
   "source": [
    "# define regression model\n",
    "def regression_model():\n",
    "    # create model\n",
    "    model = Sequential()\n",
    "    model.add(Dense(10, activation='relu', input_shape=(n_x,)))\n",
    "    model.add(Dense(10, activation='relu'))\n",
    "    model.add(Dense(10, activation='relu'))\n",
    "    model.add(Dense(1))\n",
    "    \n",
    "    # compile model\n",
    "    model.compile(optimizer='adam', loss='mean_squared_error')\n",
    "    return model"
   ]
  },
  {
   "cell_type": "code",
   "execution_count": 64,
   "metadata": {},
   "outputs": [
    {
     "name": "stdout",
     "output_type": "stream",
     "text": [
      "309/309 [==============================] - 0s 81us/step\n",
      "309/309 [==============================] - 0s 116us/step\n",
      "309/309 [==============================] - 0s 133us/step\n",
      "309/309 [==============================] - 0s 84us/step\n",
      "309/309 [==============================] - 0s 72us/step\n",
      "309/309 [==============================] - 0s 67us/step\n",
      "309/309 [==============================] - 0s 80us/step\n",
      "309/309 [==============================] - 0s 72us/step\n",
      "309/309 [==============================] - 0s 122us/step\n",
      "309/309 [==============================] - 0s 125us/step\n",
      "309/309 [==============================] - 0s 132us/step\n",
      "309/309 [==============================] - 0s 124us/step\n",
      "309/309 [==============================] - 0s 120us/step\n",
      "309/309 [==============================] - 0s 73us/step\n",
      "309/309 [==============================] - 0s 73us/step\n",
      "309/309 [==============================] - 0s 120us/step\n",
      "309/309 [==============================] - 0s 119us/step\n",
      "309/309 [==============================] - 0s 118us/step\n",
      "309/309 [==============================] - 0s 126us/step\n",
      "309/309 [==============================] - 0s 132us/step\n",
      "309/309 [==============================] - 0s 133us/step\n",
      "309/309 [==============================] - 0s 70us/step\n",
      "309/309 [==============================] - 0s 124us/step\n",
      "309/309 [==============================] - 0s 117us/step\n",
      "309/309 [==============================] - 0s 77us/step\n",
      "309/309 [==============================] - 0s 64us/step\n",
      "309/309 [==============================] - 0s 72us/step\n",
      "309/309 [==============================] - 0s 77us/step\n",
      "309/309 [==============================] - 0s 75us/step\n",
      "309/309 [==============================] - 0s 134us/step\n",
      "309/309 [==============================] - 0s 71us/step\n",
      "309/309 [==============================] - 0s 79us/step\n",
      "309/309 [==============================] - 0s 69us/step\n",
      "309/309 [==============================] - 0s 78us/step\n",
      "309/309 [==============================] - 0s 72us/step\n",
      "309/309 [==============================] - 0s 77us/step\n",
      "309/309 [==============================] - 0s 77us/step\n",
      "309/309 [==============================] - 0s 75us/step\n",
      "309/309 [==============================] - 0s 125us/step\n",
      "309/309 [==============================] - 0s 132us/step\n",
      "309/309 [==============================] - 0s 116us/step\n",
      "309/309 [==============================] - 0s 131us/step\n",
      "309/309 [==============================] - 0s 74us/step\n",
      "309/309 [==============================] - 0s 77us/step\n",
      "309/309 [==============================] - 0s 76us/step\n",
      "309/309 [==============================] - 0s 184us/step\n",
      "309/309 [==============================] - 0s 124us/step\n",
      "309/309 [==============================] - 0s 138us/step\n",
      "309/309 [==============================] - 0s 76us/step\n",
      "309/309 [==============================] - 0s 120us/step\n"
     ]
    }
   ],
   "source": [
    "mse_listD = []\n",
    "for i in range(1,51):\n",
    "    model.fit(X_train, y_train, epochs=50, verbose=0)\n",
    "    loss_testD = model.evaluate(x=X_test, y=y_test, verbose=1)\n",
    "    mse_listD.append(loss_testD)"
   ]
  },
  {
   "cell_type": "code",
   "execution_count": 65,
   "metadata": {},
   "outputs": [
    {
     "name": "stdout",
     "output_type": "stream",
     "text": [
      "[53.36365497922434, 53.32210962980696, 52.97881791198138, 53.42235718267249, 53.57497210950142, 53.8432248309978, 53.71096352388944, 54.08742224437133, 54.250974315655654, 54.54607420986139, 54.64173879283917, 54.77221294514184, 55.00198314876618, 54.98045670098857, 54.995562321931416, 55.05793663444643, 55.029191594293586, 55.194951079038354, 55.282750916712494, 55.27997463189283, 55.28522632191482, 55.322981257268914, 55.352908310380954, 55.45481877496713, 55.52398155730905, 55.632019438018304, 55.57776807272704, 55.60941435681192, 55.5414468215893, 55.475055188422836, 55.737143112232, 55.803556868173544, 55.57656522090381, 55.70300036186539, 55.59307505783526, 55.744797543028795, 55.671901739916756, 55.839322222860886, 55.70387813728604, 55.99921086382326, 55.89580390214149, 55.74958416096215, 55.788205267156215, 55.82085364381858, 55.78275017599458, 55.847217720303334, 55.85245239850387, 55.8925060778374, 55.91197453964875, 55.711712760061125]\n"
     ]
    }
   ],
   "source": [
    "print(mse_listD)"
   ]
  },
  {
   "cell_type": "code",
   "execution_count": 66,
   "metadata": {},
   "outputs": [
    {
     "name": "stdout",
     "output_type": "stream",
     "text": [
      "mean squared error is:55.154769231555534standard deviation of the mean squared error is:0.8171550051719635\n"
     ]
    }
   ],
   "source": [
    "import statistics\n",
    "mean_mseD = statistics.mean(mse_listD)\n",
    "std_mseD = statistics.stdev(mse_listD)\n",
    "print(\"mean squared error is:\"+ str(mean_mseD) +\"standard deviation of the mean squared error is:\"+str(std_mseD))"
   ]
  },
  {
   "cell_type": "markdown",
   "metadata": {},
   "source": [
    "## The result with three layers and 50 epochs is good but not as better as with one layer and 100 epochs "
   ]
  },
  {
   "cell_type": "markdown",
   "metadata": {},
   "source": [
    "###---------------------------------------------------Thank You for going through Notebook------------------------------------------------------------------------------\n",
    "please contact me for any clarification on the notebook with me at my email address: sumanan047@gmail.com"
   ]
  }
 ],
 "metadata": {
  "kernelspec": {
   "display_name": "Python",
   "language": "python",
   "name": "conda-env-python-py"
  },
  "language_info": {
   "codemirror_mode": {
    "name": "ipython",
    "version": 3
   },
   "file_extension": ".py",
   "mimetype": "text/x-python",
   "name": "python",
   "nbconvert_exporter": "python",
   "pygments_lexer": "ipython3",
   "version": "3.6.10"
  }
 },
 "nbformat": 4,
 "nbformat_minor": 4
}
